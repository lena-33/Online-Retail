{
 "cells": [
  {
   "cell_type": "code",
   "execution_count": null,
   "id": "ae2a1cf5",
   "metadata": {},
   "outputs": [],
   "source": [
    "import pandas as pd"
   ]
  },
  {
   "cell_type": "code",
   "execution_count": 72,
   "id": "8e2ed87e",
   "metadata": {},
   "outputs": [
    {
     "data": {
      "text/html": [
       "<div>\n",
       "<style scoped>\n",
       "    .dataframe tbody tr th:only-of-type {\n",
       "        vertical-align: middle;\n",
       "    }\n",
       "\n",
       "    .dataframe tbody tr th {\n",
       "        vertical-align: top;\n",
       "    }\n",
       "\n",
       "    .dataframe thead th {\n",
       "        text-align: right;\n",
       "    }\n",
       "</style>\n",
       "<table border=\"1\" class=\"dataframe\">\n",
       "  <thead>\n",
       "    <tr style=\"text-align: right;\">\n",
       "      <th></th>\n",
       "      <th>InvoiceNo</th>\n",
       "      <th>StockCode</th>\n",
       "      <th>Description</th>\n",
       "      <th>Quantity</th>\n",
       "      <th>InvoiceDate</th>\n",
       "      <th>UnitPrice</th>\n",
       "      <th>CustomerID</th>\n",
       "      <th>Country</th>\n",
       "    </tr>\n",
       "  </thead>\n",
       "  <tbody>\n",
       "    <tr>\n",
       "      <th>0</th>\n",
       "      <td>536365</td>\n",
       "      <td>85123A</td>\n",
       "      <td>WHITE HANGING HEART T-LIGHT HOLDER</td>\n",
       "      <td>6</td>\n",
       "      <td>12/1/2010 8:26</td>\n",
       "      <td>2.55</td>\n",
       "      <td>17850.0</td>\n",
       "      <td>United Kingdom</td>\n",
       "    </tr>\n",
       "    <tr>\n",
       "      <th>1</th>\n",
       "      <td>536365</td>\n",
       "      <td>71053</td>\n",
       "      <td>WHITE METAL LANTERN</td>\n",
       "      <td>6</td>\n",
       "      <td>12/1/2010 8:26</td>\n",
       "      <td>3.39</td>\n",
       "      <td>17850.0</td>\n",
       "      <td>United Kingdom</td>\n",
       "    </tr>\n",
       "    <tr>\n",
       "      <th>2</th>\n",
       "      <td>536365</td>\n",
       "      <td>84406B</td>\n",
       "      <td>CREAM CUPID HEARTS COAT HANGER</td>\n",
       "      <td>8</td>\n",
       "      <td>12/1/2010 8:26</td>\n",
       "      <td>2.75</td>\n",
       "      <td>17850.0</td>\n",
       "      <td>United Kingdom</td>\n",
       "    </tr>\n",
       "  </tbody>\n",
       "</table>\n",
       "</div>"
      ],
      "text/plain": [
       "  InvoiceNo StockCode                         Description  Quantity  \\\n",
       "0    536365    85123A  WHITE HANGING HEART T-LIGHT HOLDER         6   \n",
       "1    536365     71053                 WHITE METAL LANTERN         6   \n",
       "2    536365    84406B      CREAM CUPID HEARTS COAT HANGER         8   \n",
       "\n",
       "      InvoiceDate  UnitPrice  CustomerID         Country  \n",
       "0  12/1/2010 8:26       2.55     17850.0  United Kingdom  \n",
       "1  12/1/2010 8:26       3.39     17850.0  United Kingdom  \n",
       "2  12/1/2010 8:26       2.75     17850.0  United Kingdom  "
      ]
     },
     "execution_count": 72,
     "metadata": {},
     "output_type": "execute_result"
    }
   ],
   "source": [
    "df = pd.read_csv('Datasets/OnlineRetail.csv', encoding='ISO-8859–1' )\n",
    "df.head(3)\n"
   ]
  },
  {
   "cell_type": "code",
   "execution_count": 73,
   "id": "e3c25ffa",
   "metadata": {},
   "outputs": [
    {
     "name": "stdout",
     "output_type": "stream",
     "text": [
      "<class 'pandas.core.frame.DataFrame'>\n",
      "RangeIndex: 541909 entries, 0 to 541908\n",
      "Data columns (total 8 columns):\n",
      " #   Column       Non-Null Count   Dtype  \n",
      "---  ------       --------------   -----  \n",
      " 0   InvoiceNo    541909 non-null  object \n",
      " 1   StockCode    541909 non-null  object \n",
      " 2   Description  540455 non-null  object \n",
      " 3   Quantity     541909 non-null  int64  \n",
      " 4   InvoiceDate  541909 non-null  object \n",
      " 5   UnitPrice    541909 non-null  float64\n",
      " 6   CustomerID   406829 non-null  float64\n",
      " 7   Country      541909 non-null  object \n",
      "dtypes: float64(2), int64(1), object(5)\n",
      "memory usage: 33.1+ MB\n"
     ]
    }
   ],
   "source": [
    "df.info()"
   ]
  },
  {
   "cell_type": "code",
   "execution_count": 74,
   "id": "323ef904",
   "metadata": {},
   "outputs": [
    {
     "data": {
      "text/html": [
       "<div>\n",
       "<style scoped>\n",
       "    .dataframe tbody tr th:only-of-type {\n",
       "        vertical-align: middle;\n",
       "    }\n",
       "\n",
       "    .dataframe tbody tr th {\n",
       "        vertical-align: top;\n",
       "    }\n",
       "\n",
       "    .dataframe thead th {\n",
       "        text-align: right;\n",
       "    }\n",
       "</style>\n",
       "<table border=\"1\" class=\"dataframe\">\n",
       "  <thead>\n",
       "    <tr style=\"text-align: right;\">\n",
       "      <th></th>\n",
       "      <th>Quantity</th>\n",
       "      <th>UnitPrice</th>\n",
       "      <th>CustomerID</th>\n",
       "    </tr>\n",
       "  </thead>\n",
       "  <tbody>\n",
       "    <tr>\n",
       "      <th>count</th>\n",
       "      <td>541909.000000</td>\n",
       "      <td>541909.000000</td>\n",
       "      <td>406829.000000</td>\n",
       "    </tr>\n",
       "    <tr>\n",
       "      <th>mean</th>\n",
       "      <td>9.552250</td>\n",
       "      <td>4.611114</td>\n",
       "      <td>15287.690570</td>\n",
       "    </tr>\n",
       "    <tr>\n",
       "      <th>std</th>\n",
       "      <td>218.081158</td>\n",
       "      <td>96.759853</td>\n",
       "      <td>1713.600303</td>\n",
       "    </tr>\n",
       "    <tr>\n",
       "      <th>min</th>\n",
       "      <td>-80995.000000</td>\n",
       "      <td>-11062.060000</td>\n",
       "      <td>12346.000000</td>\n",
       "    </tr>\n",
       "    <tr>\n",
       "      <th>25%</th>\n",
       "      <td>1.000000</td>\n",
       "      <td>1.250000</td>\n",
       "      <td>13953.000000</td>\n",
       "    </tr>\n",
       "    <tr>\n",
       "      <th>50%</th>\n",
       "      <td>3.000000</td>\n",
       "      <td>2.080000</td>\n",
       "      <td>15152.000000</td>\n",
       "    </tr>\n",
       "    <tr>\n",
       "      <th>75%</th>\n",
       "      <td>10.000000</td>\n",
       "      <td>4.130000</td>\n",
       "      <td>16791.000000</td>\n",
       "    </tr>\n",
       "    <tr>\n",
       "      <th>max</th>\n",
       "      <td>80995.000000</td>\n",
       "      <td>38970.000000</td>\n",
       "      <td>18287.000000</td>\n",
       "    </tr>\n",
       "  </tbody>\n",
       "</table>\n",
       "</div>"
      ],
      "text/plain": [
       "            Quantity      UnitPrice     CustomerID\n",
       "count  541909.000000  541909.000000  406829.000000\n",
       "mean        9.552250       4.611114   15287.690570\n",
       "std       218.081158      96.759853    1713.600303\n",
       "min    -80995.000000  -11062.060000   12346.000000\n",
       "25%         1.000000       1.250000   13953.000000\n",
       "50%         3.000000       2.080000   15152.000000\n",
       "75%        10.000000       4.130000   16791.000000\n",
       "max     80995.000000   38970.000000   18287.000000"
      ]
     },
     "execution_count": 74,
     "metadata": {},
     "output_type": "execute_result"
    }
   ],
   "source": [
    "df.describe()"
   ]
  },
  {
   "cell_type": "code",
   "execution_count": 75,
   "id": "fa3d475a",
   "metadata": {},
   "outputs": [
    {
     "data": {
      "text/plain": [
       "InvoiceNo           0\n",
       "StockCode           0\n",
       "Description      1454\n",
       "Quantity            0\n",
       "InvoiceDate         0\n",
       "UnitPrice           0\n",
       "CustomerID     135080\n",
       "Country             0\n",
       "dtype: int64"
      ]
     },
     "execution_count": 75,
     "metadata": {},
     "output_type": "execute_result"
    }
   ],
   "source": [
    "df.isna().sum()"
   ]
  },
  {
   "cell_type": "code",
   "execution_count": 76,
   "id": "b91c17b3",
   "metadata": {},
   "outputs": [
    {
     "data": {
      "text/html": [
       "<div>\n",
       "<style scoped>\n",
       "    .dataframe tbody tr th:only-of-type {\n",
       "        vertical-align: middle;\n",
       "    }\n",
       "\n",
       "    .dataframe tbody tr th {\n",
       "        vertical-align: top;\n",
       "    }\n",
       "\n",
       "    .dataframe thead th {\n",
       "        text-align: right;\n",
       "    }\n",
       "</style>\n",
       "<table border=\"1\" class=\"dataframe\">\n",
       "  <thead>\n",
       "    <tr style=\"text-align: right;\">\n",
       "      <th></th>\n",
       "      <th>InvoiceNo</th>\n",
       "      <th>StockCode</th>\n",
       "      <th>Description</th>\n",
       "      <th>Quantity</th>\n",
       "      <th>InvoiceDate</th>\n",
       "      <th>UnitPrice</th>\n",
       "      <th>CustomerID</th>\n",
       "      <th>Country</th>\n",
       "    </tr>\n",
       "  </thead>\n",
       "  <tbody>\n",
       "    <tr>\n",
       "      <th>541904</th>\n",
       "      <td>581587</td>\n",
       "      <td>22613</td>\n",
       "      <td>PACK OF 20 SPACEBOY NAPKINS</td>\n",
       "      <td>12</td>\n",
       "      <td>12/9/2011 12:50</td>\n",
       "      <td>0.85</td>\n",
       "      <td>12680.0</td>\n",
       "      <td>France</td>\n",
       "    </tr>\n",
       "    <tr>\n",
       "      <th>541905</th>\n",
       "      <td>581587</td>\n",
       "      <td>22899</td>\n",
       "      <td>CHILDREN'S APRON DOLLY GIRL</td>\n",
       "      <td>6</td>\n",
       "      <td>12/9/2011 12:50</td>\n",
       "      <td>2.10</td>\n",
       "      <td>12680.0</td>\n",
       "      <td>France</td>\n",
       "    </tr>\n",
       "    <tr>\n",
       "      <th>541906</th>\n",
       "      <td>581587</td>\n",
       "      <td>23254</td>\n",
       "      <td>CHILDRENS CUTLERY DOLLY GIRL</td>\n",
       "      <td>4</td>\n",
       "      <td>12/9/2011 12:50</td>\n",
       "      <td>4.15</td>\n",
       "      <td>12680.0</td>\n",
       "      <td>France</td>\n",
       "    </tr>\n",
       "    <tr>\n",
       "      <th>541907</th>\n",
       "      <td>581587</td>\n",
       "      <td>23255</td>\n",
       "      <td>CHILDRENS CUTLERY CIRCUS PARADE</td>\n",
       "      <td>4</td>\n",
       "      <td>12/9/2011 12:50</td>\n",
       "      <td>4.15</td>\n",
       "      <td>12680.0</td>\n",
       "      <td>France</td>\n",
       "    </tr>\n",
       "    <tr>\n",
       "      <th>541908</th>\n",
       "      <td>581587</td>\n",
       "      <td>22138</td>\n",
       "      <td>BAKING SET 9 PIECE RETROSPOT</td>\n",
       "      <td>3</td>\n",
       "      <td>12/9/2011 12:50</td>\n",
       "      <td>4.95</td>\n",
       "      <td>12680.0</td>\n",
       "      <td>France</td>\n",
       "    </tr>\n",
       "  </tbody>\n",
       "</table>\n",
       "</div>"
      ],
      "text/plain": [
       "       InvoiceNo StockCode                      Description  Quantity  \\\n",
       "541904    581587     22613      PACK OF 20 SPACEBOY NAPKINS        12   \n",
       "541905    581587     22899     CHILDREN'S APRON DOLLY GIRL          6   \n",
       "541906    581587     23254    CHILDRENS CUTLERY DOLLY GIRL          4   \n",
       "541907    581587     23255  CHILDRENS CUTLERY CIRCUS PARADE         4   \n",
       "541908    581587     22138    BAKING SET 9 PIECE RETROSPOT          3   \n",
       "\n",
       "            InvoiceDate  UnitPrice  CustomerID Country  \n",
       "541904  12/9/2011 12:50       0.85     12680.0  France  \n",
       "541905  12/9/2011 12:50       2.10     12680.0  France  \n",
       "541906  12/9/2011 12:50       4.15     12680.0  France  \n",
       "541907  12/9/2011 12:50       4.15     12680.0  France  \n",
       "541908  12/9/2011 12:50       4.95     12680.0  France  "
      ]
     },
     "execution_count": 76,
     "metadata": {},
     "output_type": "execute_result"
    }
   ],
   "source": [
    "df.tail()"
   ]
  },
  {
   "cell_type": "code",
   "execution_count": 77,
   "id": "d89862e8",
   "metadata": {},
   "outputs": [
    {
     "data": {
      "text/plain": [
       "WHITE HANGING HEART T-LIGHT HOLDER     2369\n",
       "REGENCY CAKESTAND 3 TIER               2200\n",
       "JUMBO BAG RED RETROSPOT                2159\n",
       "PARTY BUNTING                          1727\n",
       "LUNCH BAG RED RETROSPOT                1638\n",
       "                                       ... \n",
       "Missing                                   1\n",
       "historic computer difference?....se       1\n",
       "DUSTY PINK CHRISTMAS TREE 30CM            1\n",
       "WRAP BLUE RUSSIAN FOLKART                 1\n",
       "PINK BERTIE MOBILE PHONE CHARM            1\n",
       "Name: Description, Length: 4223, dtype: int64"
      ]
     },
     "execution_count": 77,
     "metadata": {},
     "output_type": "execute_result"
    }
   ],
   "source": [
    "df['Description'].value_counts()"
   ]
  },
  {
   "cell_type": "code",
   "execution_count": 78,
   "id": "d5e120b0",
   "metadata": {},
   "outputs": [
    {
     "data": {
      "text/plain": [
       "array(['536365', '536366', '536367', ..., '581585', '581586', '581587'],\n",
       "      dtype=object)"
      ]
     },
     "execution_count": 78,
     "metadata": {},
     "output_type": "execute_result"
    }
   ],
   "source": [
    "df['InvoiceNo'].unique()"
   ]
  },
  {
   "cell_type": "code",
   "execution_count": 79,
   "id": "19d83ef1",
   "metadata": {},
   "outputs": [
    {
     "data": {
      "text/plain": [
       "0          6\n",
       "1          6\n",
       "2          8\n",
       "3          6\n",
       "4          6\n",
       "          ..\n",
       "541904    12\n",
       "541905     6\n",
       "541906     4\n",
       "541907     4\n",
       "541908     3\n",
       "Name: Quantity, Length: 541909, dtype: int64"
      ]
     },
     "execution_count": 79,
     "metadata": {},
     "output_type": "execute_result"
    }
   ],
   "source": [
    "df['Quantity']"
   ]
  },
  {
   "cell_type": "markdown",
   "id": "a56757b1",
   "metadata": {},
   "source": [
    "# Clean up 1"
   ]
  },
  {
   "cell_type": "code",
   "execution_count": 83,
   "id": "9d95551a",
   "metadata": {},
   "outputs": [],
   "source": [
    "df = df[df.Quantity > 1]"
   ]
  },
  {
   "cell_type": "code",
   "execution_count": 84,
   "id": "2b0b89bc",
   "metadata": {},
   "outputs": [
    {
     "data": {
      "text/plain": [
       "0          6\n",
       "1          6\n",
       "2          8\n",
       "3          6\n",
       "4          6\n",
       "          ..\n",
       "541904    12\n",
       "541905     6\n",
       "541906     4\n",
       "541907     4\n",
       "541908     3\n",
       "Name: Quantity, Length: 383058, dtype: int64"
      ]
     },
     "execution_count": 84,
     "metadata": {},
     "output_type": "execute_result"
    }
   ],
   "source": [
    "df['Quantity']"
   ]
  },
  {
   "cell_type": "code",
   "execution_count": 85,
   "id": "d3dad251",
   "metadata": {},
   "outputs": [
    {
     "data": {
      "text/plain": [
       "array([    6,     8,     2,    32,     3,     4,    24,    12,    48,\n",
       "          18,    20,    36,    80,    64,    10,   120,    96,    23,\n",
       "           5,    50,    40,   100,   192,   432,   144,   288,    16,\n",
       "           9,   128,    25,    30,    28,     7,    56,    72,   200,\n",
       "         600,   480,    14,    11,    33,    13,    70,   252,    60,\n",
       "         216,   384,    27,    15,    22,    19,    17,    21,    34,\n",
       "          47,   108,    52,    75,   270,    42,   240,    90,   320,\n",
       "        1824,   204,    69,   160,  2880,  1400,    39,    26,  1440,\n",
       "          31,    82,    78,    97,    98,    35,    57,   110,   720,\n",
       "         156,   324,    38,    37,    49,    95,    29,    41,   402,\n",
       "         378,   150,   300,    54,   104,    67,   258,    66,    44,\n",
       "          55,    46,    99,    61,   408,   972,   208,  1008,  1000,\n",
       "        1488,   250,  1394,   400,    79,    84,   272,   113,    45,\n",
       "         106,    68,   267,   115,    65,  1728,    53,    76,   460,\n",
       "          71,    43,   213,    58,   576,  2400,   500,   180,   752,\n",
       "         960,  1296,   210,   172,   215,   129,   138,   116,   135,\n",
       "         197,   147,   168,   256,   860,  1010,  1356,  1284,   186,\n",
       "         114,   360,  1930,  2000,  3114,  1300,   670,   111,   211,\n",
       "          59,   176,   648,    62, 74215,    89,    73,   112,   456,\n",
       "        5568,  2560,   136,   900,   130,  2592,   420,   800,   101,\n",
       "        1200,   864,    94,  1287,   504,   123,   118,  1056,  1500,\n",
       "         280,   407,   141,   124,    51,  3906,   102,  1152,   198,\n",
       "         117,    86,   125,   140,   228,    81,  3000,   219,   232,\n",
       "         170,   768,    88,   700,  2160,   342,   304,   167,   640,\n",
       "         175,   220,    74,    93,   164,   163,    63,   637,   122,\n",
       "         158,   165,   350,    83,   312,   392,   330,   151,   462,\n",
       "         492,   273,    85,   105,  1350,   428,   336,   132,   227,\n",
       "        2700,   222,   246,   906,   756,   888,   552,   224,   738,\n",
       "         608,  4300,   146,   143,   276,  4000,  1600,   323,  1515,\n",
       "         660,   264,   188,   588,   612,   152,   430,    87,   155,\n",
       "         701,   828,   540,   696,   560,   121,   512,  3100,   126,\n",
       "         291,  3186,   109,   261,   352,   142,   107,   348,  1900,\n",
       "         157,   425,   968,   684,   824,   196,   248,   410,   236,\n",
       "         230,   145,   448,   245,   171,   840,   225,   750,   682,\n",
       "         344,   450,   310,   494,    92,  1788,   624,   744,   416,\n",
       "         496,   396,   306,  1878,  1944,   666,   708,  1428,   852,\n",
       "        1412,   528,   183,  1540,   672,    91,   255,   468,  4800,\n",
       "         912,  1992,   184,   148,   832,   992,   630,  1020,  2100,\n",
       "         162,   314,   370,   131,   133,   484,   149,   153,   257,\n",
       "         139,   137,   628,   179,  1820,   478,   335,   253,   242,\n",
       "         375,   281,   193,   181,   404,   244,   207,   199,  1130,\n",
       "         326,   654,   688,   268,   249,   234,   279,   374,   212,\n",
       "       12540,   760,   774,  2040,  1120,    77,   177,   490,   388,\n",
       "         620,  1404,   205,   698, 80995], dtype=int64)"
      ]
     },
     "execution_count": 85,
     "metadata": {},
     "output_type": "execute_result"
    }
   ],
   "source": [
    "df.Quantity.unique()"
   ]
  },
  {
   "cell_type": "code",
   "execution_count": 86,
   "id": "dc631a6c",
   "metadata": {},
   "outputs": [
    {
     "data": {
      "text/plain": [
       "0         2.55\n",
       "1         3.39\n",
       "2         2.75\n",
       "3         3.39\n",
       "4         3.39\n",
       "          ... \n",
       "541904    0.85\n",
       "541905    2.10\n",
       "541906    4.15\n",
       "541907    4.15\n",
       "541908    4.95\n",
       "Name: UnitPrice, Length: 383058, dtype: float64"
      ]
     },
     "execution_count": 86,
     "metadata": {},
     "output_type": "execute_result"
    }
   ],
   "source": [
    "df.UnitPrice"
   ]
  },
  {
   "cell_type": "code",
   "execution_count": 88,
   "id": "bf708ae1",
   "metadata": {},
   "outputs": [
    {
     "data": {
      "text/plain": [
       "1.25     40203\n",
       "1.65     31444\n",
       "0.85     24050\n",
       "0.42     22021\n",
       "2.95     21533\n",
       "         ...  \n",
       "8.07         1\n",
       "35.00        1\n",
       "12.98        1\n",
       "6.40         1\n",
       "1.89         1\n",
       "Name: UnitPrice, Length: 447, dtype: int64"
      ]
     },
     "execution_count": 88,
     "metadata": {},
     "output_type": "execute_result"
    }
   ],
   "source": [
    "df.UnitPrice.value_counts()"
   ]
  },
  {
   "cell_type": "code",
   "execution_count": 109,
   "id": "c71bcc02",
   "metadata": {},
   "outputs": [
    {
     "data": {
      "text/plain": [
       "array([2.550e+00, 3.390e+00, 2.750e+00, 7.650e+00, 4.250e+00, 1.850e+00,\n",
       "       1.690e+00, 2.100e+00, 3.750e+00, 1.650e+00, 4.950e+00, 9.950e+00,\n",
       "       5.950e+00, 7.950e+00, 8.500e-01, 6.500e-01, 1.250e+00, 2.950e+00,\n",
       "       1.950e+00, 4.200e-01, 1.800e+01, 1.060e+00, 6.950e+00, 1.095e+01,\n",
       "       3.450e+00, 5.500e-01, 3.800e-01, 1.450e+00, 3.950e+00, 6.750e+00,\n",
       "       1.495e+01, 1.695e+01, 6.450e+00, 1.275e+01, 8.500e+00, 3.820e+00,\n",
       "       3.370e+00, 5.450e+00, 6.350e+00, 7.200e-01, 6.400e-01, 1.000e-01,\n",
       "       3.200e-01, 1.480e+00, 3.575e+01, 4.650e+00, 2.900e-01, 3.350e+00,\n",
       "       9.500e-01, 2.100e-01, 1.200e-01, 0.000e+00, 2.400e-01, 1.490e+00,\n",
       "       1.550e+00, 3.250e+00, 2.250e+00, 8.950e+00, 2.510e+00, 1.660e+00,\n",
       "       4.300e-01, 2.980e+00, 5.910e+00, 3.360e+00, 7.620e+00, 1.698e+01,\n",
       "       1.102e+01, 8.470e+00, 4.210e+00, 8.100e-01, 1.280e+00, 5.060e+00,\n",
       "       1.272e+01, 6.770e+00, 9.320e+00, 8.400e-01, 1.017e+01, 1.187e+01,\n",
       "       1.995e+01, 4.600e+00, 1.050e+00, 1.357e+01, 1.613e+01, 2.549e+01,\n",
       "       2.123e+01, 2.038e+01, 2.820e+00, 1.270e+00, 3.190e+00, 9.900e-01,\n",
       "       2.130e+00, 5.090e+00, 1.900e-01, 1.075e+01, 7.500e-01, 3.600e-01,\n",
       "       3.400e-01, 1.600e-01, 1.880e+00, 1.800e-01, 2.995e+01, 4.000e+01,\n",
       "       1.443e+01, 1.840e+00, 2.110e+00, 3.830e+00, 2.800e+01, 4.295e+01,\n",
       "       5.550e+00, 5.490e+00, 4.240e+00, 9.340e+00, 1.260e+00, 1.065e+01,\n",
       "       3.000e-01, 8.300e-01, 5.940e+00, 6.600e+00, 1.930e+00, 3.210e+00,\n",
       "       5.300e-01, 7.000e-02, 6.370e+00, 3.810e+00, 3.400e+01, 5.740e+00,\n",
       "       2.979e+01, 3.995e+01, 4.780e+00, 1.984e+01, 2.310e+00, 6.380e+00,\n",
       "       9.890e+00, 3.860e+00, 5.277e+01, 3.880e+00, 3.269e+01, 5.510e+00,\n",
       "       2.540e+00, 3.490e+00, 1.400e-01, 2.195e+01, 1.450e+02, 1.994e+01,\n",
       "       2.500e-01, 6.790e+00, 2.960e+00, 4.810e+00, 1.750e+02, 1.700e-01,\n",
       "       2.500e+00, 7.500e+00, 6.250e+00, 2.120e+00, 1.250e+02, 5.000e-01,\n",
       "       2.000e+00, 1.530e+00, 9.400e-01, 3.495e+01, 3.000e+00, 1.500e+01,\n",
       "       8.070e+00, 1.000e+00, 3.500e+00, 4.000e-01, 3.500e+01, 1.595e+01,\n",
       "       2.000e-01, 7.250e+00, 7.640e+00, 3.980e+00, 3.700e-01, 8.490e+00,\n",
       "       6.500e+01, 2.495e+01, 3.240e+00, 2.170e+00, 1.013e+01, 2.400e+00,\n",
       "       2.650e+00, 2.210e+00, 2.160e+00, 7.300e-01, 1.240e+00, 3.440e+00,\n",
       "       4.680e+00, 2.220e+00, 2.690e+00, 4.620e+00, 6.910e+00, 9.160e+00,\n",
       "       8.870e+00, 7.130e+00, 4.130e+00, 2.460e+00, 6.630e+00, 7.460e+00,\n",
       "       5.790e+00, 3.290e+00, 1.663e+01, 8.290e+00, 4.960e+00, 1.630e+00,\n",
       "       1.246e+01, 9.130e+00, 2.080e+00, 2.496e+01, 7.450e+00, 3.120e+00,\n",
       "       2.920e+00, 7.900e-01, 2.900e+00, 2.070e+00, 1.079e+01, 9.700e-01,\n",
       "       1.413e+01, 1.163e+01, 9.960e+00, 1.579e+01, 1.000e+01, 3.730e+00,\n",
       "       9.150e+00, 1.996e+01, 1.100e+02, 1.040e+00, 4.980e+00, 7.900e+00,\n",
       "       3.329e+01, 2.760e+00, 4.150e+00, 1.670e+00, 1.460e+00, 1.248e+01,\n",
       "       5.380e+00, 1.800e+00, 1.329e+01, 7.070e+00, 2.480e+00, 2.079e+01,\n",
       "       4.996e+01, 4.710e+00, 8.200e-01, 1.380e+00, 5.750e+00, 4.770e+00,\n",
       "       2.917e+01, 2.200e-01, 5.630e+00, 6.000e-02, 3.900e-01, 4.120e+00,\n",
       "       1.750e+00, 8.150e+00, 3.330e+00, 5.000e+00, 3.500e-01, 1.230e+00,\n",
       "       5.830e+00, 2.756e+02, 6.980e+00, 4.580e+00, 2.890e+00, 8.250e+00,\n",
       "       5.995e+01, 3.295e+01, 4.000e+00, 8.000e-02, 3.400e+00, 8.320e+00,\n",
       "       1.496e+01, 3.595e+01, 6.300e-01, 6.800e-01, 2.320e+00, 1.700e+00,\n",
       "       6.000e+00, 1.298e+01, 3.850e+00, 8.330e+00, 2.490e+00, 1.295e+01,\n",
       "       1.500e+00, 2.450e+00, 1.790e+00, 9.860e+00, 1.195e+01, 3.140e+00,\n",
       "       5.000e+01, 6.650e+00, 1.250e+01, 1.667e+01, 1.350e+00, 2.350e+00,\n",
       "       7.050e+00, 3.300e+00, 1.740e+00, 3.150e+00, 6.620e+00, 1.115e+01,\n",
       "       2.000e+01, 1.040e+01, 2.913e+01, 5.829e+01, 1.890e+00, 5.390e+00,\n",
       "       6.900e-01, 7.400e-01, 2.660e+00, 2.330e+00, 6.780e+00, 5.880e+00,\n",
       "       4.860e+00, 3.320e+00, 9.420e+00, 1.980e+00, 1.180e+00, 1.920e+00,\n",
       "       6.420e+00, 4.270e+00, 1.680e+00, 5.355e+01, 4.175e+01, 1.900e+00,\n",
       "       4.180e+00, 5.970e+00, 5.900e-01, 4.000e-02, 6.495e+02, 4.800e+00,\n",
       "       3.910e+00, 3.900e+00, 6.400e+00, 8.000e+00, 2.800e-01, 6.200e-01,\n",
       "       2.060e+00, 2.700e-01, 8.600e-01, 2.260e+00, 2.620e+00, 5.800e-01,\n",
       "       9.800e-01, 7.850e+00, 6.500e+00, 6.890e+00, 5.320e+00, 2.290e+00,\n",
       "       5.400e+00, 8.500e+01, 4.995e+01, 2.390e+00, 3.200e+00, 6.230e+00,\n",
       "       4.300e+00, 1.020e+00, 1.080e+00, 1.420e+00, 3.280e+00, 1.430e+00,\n",
       "       4.020e+00, 4.080e+00, 5.140e+00, 2.600e+00, 5.080e+00, 5.150e+00,\n",
       "       1.039e+01, 2.880e+00, 7.080e+00, 4.990e+00, 5.795e+01, 5.100e+00,\n",
       "       2.410e+00, 5.180e+00, 8.120e+00, 1.640e+00, 5.640e+00, 6.720e+00,\n",
       "       1.960e+00, 9.980e+00, 4.670e+00, 1.167e+01, 8.000e-01, 6.100e-01,\n",
       "       3.100e-01, 1.829e+01, 6.360e+00, 3.260e+00, 1.120e+00, 1.970e+00,\n",
       "       6.670e+00, 1.400e+00, 2.850e+00, 1.600e+00, 5.660e+00, 3.580e+00,\n",
       "       5.350e+00, 9.000e-01, 3.570e+00, 3.890e+00, 3.970e+00, 5.680e+00,\n",
       "       2.910e+00, 2.300e+00, 1.221e+01, 1.665e+01, 4.500e+00, 2.080e+01,\n",
       "       1.788e+01, 3.920e+00, 4.140e+00, 2.500e+01, 4.163e+01, 1.455e+01,\n",
       "       3.130e+00, 1.710e+00, 7.480e+00, 1.100e+00, 1.110e+00, 5.170e+00,\n",
       "       2.670e+00, 9.200e-01, 2.940e+00, 1.296e+01, 9.570e+00, 1.895e+01,\n",
       "       1.313e+01, 6.710e+00, 2.040e+00, 5.820e+00, 1.029e+01, 5.130e+00,\n",
       "       1.190e+00, 5.200e-01, 7.840e+00, 2.420e+00, 1.010e+00, 3.160e+00,\n",
       "       4.700e+00, 9.000e-02, 1.700e+01, 4.500e+01, 7.800e-01, 2.990e+00,\n",
       "       1.860e+00, 1.335e+01, 4.760e+00])"
      ]
     },
     "execution_count": 109,
     "metadata": {},
     "output_type": "execute_result"
    }
   ],
   "source": [
    "df.UnitPrice.unique()"
   ]
  },
  {
   "cell_type": "markdown",
   "id": "c9904d11",
   "metadata": {},
   "source": [
    "# Clean up 2"
   ]
  },
  {
   "cell_type": "code",
   "execution_count": 110,
   "id": "be5f145f",
   "metadata": {},
   "outputs": [],
   "source": [
    "df = df[df.UnitPrice > 0]"
   ]
  },
  {
   "cell_type": "code",
   "execution_count": 111,
   "id": "c22af6d3",
   "metadata": {},
   "outputs": [
    {
     "data": {
      "text/plain": [
       "0         2.55\n",
       "1         3.39\n",
       "2         2.75\n",
       "3         3.39\n",
       "4         3.39\n",
       "          ... \n",
       "541903    4.15\n",
       "541905    2.10\n",
       "541906    4.15\n",
       "541907    4.15\n",
       "541908    4.95\n",
       "Name: UnitPrice, Length: 289657, dtype: float64"
      ]
     },
     "execution_count": 111,
     "metadata": {},
     "output_type": "execute_result"
    }
   ],
   "source": [
    "df.UnitPrice"
   ]
  },
  {
   "cell_type": "code",
   "execution_count": 112,
   "id": "56d63b76",
   "metadata": {},
   "outputs": [
    {
     "name": "stdout",
     "output_type": "stream",
     "text": [
      "<class 'pandas.core.frame.DataFrame'>\n",
      "Int64Index: 289657 entries, 0 to 541908\n",
      "Data columns (total 8 columns):\n",
      " #   Column       Non-Null Count   Dtype  \n",
      "---  ------       --------------   -----  \n",
      " 0   InvoiceNo    289657 non-null  object \n",
      " 1   StockCode    289657 non-null  object \n",
      " 2   Description  289657 non-null  object \n",
      " 3   Quantity     289657 non-null  int64  \n",
      " 4   InvoiceDate  289657 non-null  object \n",
      " 5   UnitPrice    289657 non-null  float64\n",
      " 6   CustomerID   242360 non-null  float64\n",
      " 7   Country      289657 non-null  object \n",
      "dtypes: float64(2), int64(1), object(5)\n",
      "memory usage: 19.9+ MB\n"
     ]
    }
   ],
   "source": [
    "df.info()"
   ]
  }
 ],
 "metadata": {
  "kernelspec": {
   "display_name": "Python 3 (ipykernel)",
   "language": "python",
   "name": "python3"
  },
  "language_info": {
   "codemirror_mode": {
    "name": "ipython",
    "version": 3
   },
   "file_extension": ".py",
   "mimetype": "text/x-python",
   "name": "python",
   "nbconvert_exporter": "python",
   "pygments_lexer": "ipython3",
   "version": "3.9.12"
  }
 },
 "nbformat": 4,
 "nbformat_minor": 5
}
